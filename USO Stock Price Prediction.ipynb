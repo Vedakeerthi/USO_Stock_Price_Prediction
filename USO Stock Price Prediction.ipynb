{
 "cells": [
  {
   "cell_type": "markdown",
   "id": "1d88e7c2-761d-4df3-9eda-f9bcdd0d8d17",
   "metadata": {},
   "source": [
    "# <center>USO Stock Price Prediction</center>"
   ]
  },
  {
   "cell_type": "markdown",
   "id": "84264cd5-a6df-45e5-80c1-cc5e7af91466",
   "metadata": {},
   "source": [
    "## <center>1. Forecasting the Price of the USO Stock using ARIMA model</center>"
   ]
  },
  {
   "cell_type": "markdown",
   "id": "332ad623-2335-473f-8eff-3bea1468fd5e",
   "metadata": {},
   "source": [
    "### Importing the required modules"
   ]
  },
  {
   "cell_type": "code",
   "execution_count": 3,
   "id": "f859e31a-1115-4eb0-8e57-fafa3572646e",
   "metadata": {},
   "outputs": [],
   "source": [
    "import pandas as pd\n",
    "import numpy as np\n",
    "import matplotlib.pyplot as plt\n",
    "pd.set_option('display.max_column',None)"
   ]
  },
  {
   "cell_type": "code",
   "execution_count": 4,
   "id": "37f755f8-5624-460d-bb1a-d1f5540827d7",
   "metadata": {},
   "outputs": [],
   "source": [
    "data = pd.read_csv('Datasets/FINAL_USO.xls',usecols=['Date','Close'])"
   ]
  },
  {
   "cell_type": "code",
   "execution_count": 5,
   "id": "1a722f84-85f6-44e2-ab21-50e58fb36b19",
   "metadata": {},
   "outputs": [],
   "source": [
    "data['Date'] = pd.to_datetime(data['Date'])"
   ]
  },
  {
   "cell_type": "code",
   "execution_count": 6,
   "id": "8885cf42-cb34-4e77-9cde-3fa754b59ac3",
   "metadata": {},
   "outputs": [
    {
     "data": {
      "text/html": [
       "<div>\n",
       "<style scoped>\n",
       "    .dataframe tbody tr th:only-of-type {\n",
       "        vertical-align: middle;\n",
       "    }\n",
       "\n",
       "    .dataframe tbody tr th {\n",
       "        vertical-align: top;\n",
       "    }\n",
       "\n",
       "    .dataframe thead th {\n",
       "        text-align: right;\n",
       "    }\n",
       "</style>\n",
       "<table border=\"1\" class=\"dataframe\">\n",
       "  <thead>\n",
       "    <tr style=\"text-align: right;\">\n",
       "      <th></th>\n",
       "      <th>Close</th>\n",
       "    </tr>\n",
       "    <tr>\n",
       "      <th>Date</th>\n",
       "      <th></th>\n",
       "    </tr>\n",
       "  </thead>\n",
       "  <tbody>\n",
       "    <tr>\n",
       "      <th>2011-12-15</th>\n",
       "      <td>152.330002</td>\n",
       "    </tr>\n",
       "    <tr>\n",
       "      <th>2011-12-16</th>\n",
       "      <td>155.229996</td>\n",
       "    </tr>\n",
       "    <tr>\n",
       "      <th>2011-12-19</th>\n",
       "      <td>154.869995</td>\n",
       "    </tr>\n",
       "    <tr>\n",
       "      <th>2011-12-20</th>\n",
       "      <td>156.979996</td>\n",
       "    </tr>\n",
       "    <tr>\n",
       "      <th>2011-12-21</th>\n",
       "      <td>157.160004</td>\n",
       "    </tr>\n",
       "  </tbody>\n",
       "</table>\n",
       "</div>"
      ],
      "text/plain": [
       "                 Close\n",
       "Date                  \n",
       "2011-12-15  152.330002\n",
       "2011-12-16  155.229996\n",
       "2011-12-19  154.869995\n",
       "2011-12-20  156.979996\n",
       "2011-12-21  157.160004"
      ]
     },
     "execution_count": 6,
     "metadata": {},
     "output_type": "execute_result"
    }
   ],
   "source": [
    "data.set_index('Date',inplace=True)\n",
    "data.head()"
   ]
  },
  {
   "cell_type": "markdown",
   "id": "f0b1ba2c-4bb3-40ba-8d69-4a5b88ef16ca",
   "metadata": {},
   "source": [
    "### Plotting the stock close price"
   ]
  },
  {
   "cell_type": "code",
   "execution_count": 7,
   "id": "deab1fff-c490-40a7-994c-ce094563d475",
   "metadata": {},
   "outputs": [
    {
     "data": {
      "image/png": "[encoded data removed]",
      "text/plain": [
       "<Figure size 432x288 with 1 Axes>"
      ]
     },
     "metadata": {
      "needs_background": "light"
     },
     "output_type": "display_data"
    }
   ],
   "source": [
    "plt.title('The Stock close Price History from 2011 - 2018')\n",
    "plt.plot(data['Close'])\n",
    "plt.xlabel('2011-2018')\n",
    "plt.ylabel('Price of stock in $')\n",
    "plt.show()"
   ]
  },
  {
   "cell_type": "markdown",
   "id": "322bded9-aa7c-4e09-8d91-9e9f6304707f",
   "metadata": {},
   "source": [
    "### Testing for stationarity"
   ]
  },
  {
   "cell_type": "code",
   "execution_count": 8,
   "id": "9f561ee9-668d-4eb3-af25-071700e61874",
   "metadata": {},
   "outputs": [],
   "source": [
    "from statsmodels.tsa.stattools import adfuller"
   ]
  },
  {
   "cell_type": "code",
   "execution_count": 9,
   "id": "8c3b9a77-f348-419b-af40-d4e2f5a2b212",
   "metadata": {},
   "outputs": [],
   "source": [
    "def ad_test(d):\n",
    "    a = adfuller(d)\n",
    "    print('P value : ',a[1])\n",
    "    print('#Lags used : ',a[2])\n",
    "    print('No. of observations used : ',a[3])\n",
    "    print('It is stationary we accept H0') if a[1]<=0.05 else print('It is not stationary we reject H0')"
   ]
  },
  {
   "cell_type": "code",
   "execution_count": 10,
   "id": "cc11996e-b1cd-4551-b8e8-069df1539e87",
   "metadata": {},
   "outputs": [
    {
     "name": "stdout",
     "output_type": "stream",
     "text": [
      "P value :  0.36887815382329475\n",
      "#Lags used :  1\n",
      "No. of observations used :  1716\n",
      "It is not stationary we reject H0\n"
     ]
    }
   ],
   "source": [
    "ad_test(data['Close'].dropna())"
   ]
  },
  {
   "cell_type": "markdown",
   "id": "eba8f560-77a0-4d85-b6fc-3a54eb8d6a94",
   "metadata": {},
   "source": [
    "### Differencing to make the data stationary"
   ]
  },
  {
   "cell_type": "code",
   "execution_count": 11,
   "id": "f5ec7a56-2267-4dae-8171-f8f0d2c222fc",
   "metadata": {},
   "outputs": [],
   "source": [
    "data['first_diff'] = data['Close'] - data['Close'].shift(1)"
   ]
  },
  {
   "cell_type": "code",
   "execution_count": 12,
   "id": "be59ba97-6778-44b4-9341-417600888af7",
   "metadata": {},
   "outputs": [
    {
     "name": "stdout",
     "output_type": "stream",
     "text": [
      "P value :  0.0\n",
      "#Lags used :  1\n",
      "No. of observations used :  1715\n",
      "It is stationary we accept H0\n"
     ]
    }
   ],
   "source": [
    "ad_test(data['first_diff'].dropna())"
   ]
  },
  {
   "cell_type": "markdown",
   "id": "7e2376b0-aebd-4732-b6e4-3581d4d39284",
   "metadata": {},
   "source": [
    "### Plotting the differencing plot"
   ]
  },
  {
   "cell_type": "code",
   "execution_count": 13,
   "id": "425600a2-aa47-4f96-982a-74f5f4c14549",
   "metadata": {},
   "outputs": [
    {
     "data": {
      "image/png": "[encoded data removed]",
      "text/plain": [
       "<Figure size 432x288 with 1 Axes>"
      ]
     },
     "metadata": {
      "needs_background": "light"
     },
     "output_type": "display_data"
    }
   ],
   "source": [
    "data['first_diff'].plot()\n",
    "plt.title('The stock history after one time differencing')\n",
    "plt.show()"
   ]
  },
  {
   "cell_type": "markdown",
   "id": "2252b900-9ffe-4d27-ade1-ab33a74142f4",
   "metadata": {},
   "source": [
    "### Deploying the Auto Regressive Integrated Moving Average (ARIMA) Model"
   ]
  },
  {
   "cell_type": "code",
   "execution_count": 14,
   "id": "bd8916f7-40ea-4018-8fd5-e45c9ec89245",
   "metadata": {},
   "outputs": [
    {
     "name": "stderr",
     "output_type": "stream",
     "text": [
      "C:\\Users\\veda keerthi\\anaconda3\\lib\\site-packages\\statsmodels\\graphics\\tsaplots.py:348: FutureWarning: The default method 'yw' can produce PACF values outside of the [-1,1] interval. After 0.13, the default will change tounadjusted Yule-Walker ('ywm'). You can use this method now by setting method='ywm'.\n",
      "  warnings.warn(\n"
     ]
    },
    {
     "data": {
      "image/png": "[encoded data removed]",
      "text/plain": [
       "<Figure size 432x288 with 1 Axes>"
      ]
     },
     "metadata": {
      "needs_background": "light"
     },
     "output_type": "display_data"
    },
    {
     "data": {
      "image/png": "[encoded data removed]",
      "text/plain": [
       "<Figure size 432x288 with 1 Axes>"
      ]
     },
     "metadata": {
      "needs_background": "light"
     },
     "output_type": "display_data"
    }
   ],
   "source": [
    "from statsmodels.graphics.tsaplots import plot_acf,plot_pacf\n",
    "import statsmodels.api as sm\n",
    "\n",
    "plot_pacf(data['first_diff'].iloc[1:])\n",
    "plot_acf(data['first_diff'].iloc[1:])\n",
    "plt.show()"
   ]
  },
  {
   "cell_type": "raw",
   "id": "6ce41343-ece6-4e01-a961-654d9f8679b9",
   "metadata": {},
   "source": [
    "observation : P = 1\n",
    "              Q = 1\n",
    "              D = 1"
   ]
  },
  {
   "cell_type": "markdown",
   "id": "aba7a110-83cf-4cfc-a8c2-a45be39a4812",
   "metadata": {},
   "source": [
    "### Fitting and Forecasting of the ARIMA Model"
   ]
  },
  {
   "cell_type": "code",
   "execution_count": 15,
   "id": "77e813bb-d341-403e-b1a3-26c9468f23c2",
   "metadata": {},
   "outputs": [
    {
     "name": "stderr",
     "output_type": "stream",
     "text": [
      "C:\\Users\\veda keerthi\\anaconda3\\lib\\site-packages\\statsmodels\\tsa\\base\\tsa_model.py:471: ValueWarning: A date index has been provided, but it has no associated frequency information and so will be ignored when e.g. forecasting.\n",
      "  self._init_dates(dates, freq)\n",
      "C:\\Users\\veda keerthi\\anaconda3\\lib\\site-packages\\statsmodels\\tsa\\base\\tsa_model.py:471: ValueWarning: A date index has been provided, but it has no associated frequency information and so will be ignored when e.g. forecasting.\n",
      "  self._init_dates(dates, freq)\n"
     ]
    },
    {
     "data": {
      "image/png": "[encoded data removed]",
      "text/plain": [
       "<Figure size 432x288 with 1 Axes>"
      ]
     },
     "metadata": {
      "needs_background": "light"
     },
     "output_type": "display_data"
    }
   ],
   "source": [
    "model=sm.tsa.statespace.SARIMAX(data['Close'],order=(1, 1, 1),seasonal_order=(1,1,1,12))\n",
    "results=model.fit()\n",
    "data['forecast']=results.predict(start=950)\n",
    "data[['Close','forecast']].plot()\n",
    "plt.title('Actual VS Predicted')\n",
    "plt.ylabel('The price of the gold stock')\n",
    "plt.show()"
   ]
  },
  {
   "cell_type": "code",
   "execution_count": 16,
   "id": "a5f2017a-c195-416a-a5f0-efdf54a43d7e",
   "metadata": {},
   "outputs": [],
   "source": [
    "data = data[['Close','forecast']]\n",
    "data.dropna(inplace=True)"
   ]
  },
  {
   "cell_type": "markdown",
   "id": "ae9c6d2f-70ab-4d21-8491-aa2e5a39293b",
   "metadata": {},
   "source": [
    "### Evaluation metrics for ARIMA Model"
   ]
  },
  {
   "cell_type": "code",
   "execution_count": 17,
   "id": "e55b31e0-284e-4c41-89ab-144ca7b26282",
   "metadata": {},
   "outputs": [
    {
     "name": "stdout",
     "output_type": "stream",
     "text": [
      "Mean absolute error :  0.6914720541725479\n",
      "Mean squared error :  0.8998354145042642\n",
      "R2 error :  0.9753060590897782\n"
     ]
    }
   ],
   "source": [
    "from sklearn.metrics import mean_absolute_error, mean_squared_error, r2_score\n",
    "\n",
    "print('Mean absolute error : ', mean_absolute_error(data['Close'],data['forecast']))\n",
    "print('Mean squared error : ', mean_squared_error(data['Close'],data['forecast']))\n",
    "print('R2 error : ', r2_score(data['Close'],data['forecast']))"
   ]
  },
  {
   "cell_type": "markdown",
   "id": "8177daa8-afe9-48ce-b7dd-c0b895dde446",
   "metadata": {},
   "source": [
    "## <center> 2. Forecasting the USO Stock Price using LSTM </center>"
   ]
  },
  {
   "cell_type": "markdown",
   "id": "9884016d-2559-49a9-ae61-aeffa1bc6a67",
   "metadata": {},
   "source": [
    "### Importing the data"
   ]
  },
  {
   "cell_type": "code",
   "execution_count": 39,
   "id": "0c6c6344-d74f-4d15-bcd1-67ee9da5d59d",
   "metadata": {},
   "outputs": [],
   "source": [
    "from tensorflow.keras.layers import Dense, LSTM, Dropout\n",
    "from tensorflow.keras.models import Sequential"
   ]
  },
  {
   "cell_type": "code",
   "execution_count": 18,
   "id": "eab0d080-8e67-4c06-b811-ab94b589ad71",
   "metadata": {},
   "outputs": [],
   "source": [
    "data = pd.read_csv('Datasets/FINAL_USO.xls',usecols=['Close'])"
   ]
  },
  {
   "cell_type": "markdown",
   "id": "c070689b-3472-450b-a310-a77f84bd3462",
   "metadata": {},
   "source": [
    "### Preprocessing the Data"
   ]
  },
  {
   "cell_type": "code",
   "execution_count": 19,
   "id": "57acf526-5fc2-4ed9-af08-63fe8fc00827",
   "metadata": {},
   "outputs": [],
   "source": [
    "from sklearn.preprocessing import MinMaxScaler\n",
    "minmax = MinMaxScaler(feature_range=(0,1))\n",
    "scaled_data = minmax.fit_transform(data)\n",
    "train_data=scaled_data[:987,:]\n",
    "valid_data=scaled_data[987:,:]"
   ]
  },
  {
   "cell_type": "markdown",
   "id": "486edc82-be0c-4dd6-a7e7-dae13b1f61d7",
   "metadata": {},
   "source": [
    "### Training split"
   ]
  },
  {
   "cell_type": "code",
   "execution_count": 21,
   "id": "3a1aaa2a-a15b-440d-a8e4-dff0acbbcbe9",
   "metadata": {},
   "outputs": [],
   "source": [
    "x_train, y_train = [], []\n",
    "for i in range(60,len(train_data)):\n",
    "    x_train.append(train_data[i-60:i,0])\n",
    "    y_train.append(train_data[i,0])"
   ]
  },
  {
   "cell_type": "code",
   "execution_count": 22,
   "id": "d95740c2-bd20-4072-8e4a-cf56d0ac4ea6",
   "metadata": {},
   "outputs": [],
   "source": [
    "x_train, y_train = np.array(x_train), np.array(y_train)"
   ]
  },
  {
   "cell_type": "markdown",
   "id": "677d408b-8f0a-4bee-bce6-0128155a3e5a",
   "metadata": {},
   "source": [
    "### Reshaping the training data to fit the model"
   ]
  },
  {
   "cell_type": "code",
   "execution_count": 23,
   "id": "0a067a3b-8cd3-4ff7-9924-520639bacfbe",
   "metadata": {},
   "outputs": [],
   "source": [
    "x_train = np.reshape(x_train,(x_train.shape[0],x_train.shape[1],1))"
   ]
  },
  {
   "cell_type": "markdown",
   "id": "2ee3d2a9-83b5-4de6-a734-884b6f833d21",
   "metadata": {},
   "source": [
    "### Model creation"
   ]
  },
  {
   "cell_type": "code",
   "execution_count": 24,
   "id": "8e119da0-dde6-4d4a-8cc2-4bfdaea3f472",
   "metadata": {},
   "outputs": [],
   "source": [
    "model = Sequential([LSTM(50,return_sequences=True,input_shape=(x_train.shape[1],1)),\n",
    "                   LSTM(50),\n",
    "                   Dense(1,activation='relu')])\n",
    "model.compile(optimizer='adam', loss='mean_squared_error')"
   ]
  },
  {
   "cell_type": "code",
   "execution_count": 25,
   "id": "72aa8f8d-1f4b-44c3-b390-b96a425a2def",
   "metadata": {},
   "outputs": [
    {
     "name": "stdout",
     "output_type": "stream",
     "text": [
      "Model: \"sequential\"\n",
      "_________________________________________________________________\n",
      "Layer (type)                 Output Shape              Param #   \n",
      "=================================================================\n",
      "lstm (LSTM)                  (None, 60, 50)            10400     \n",
      "_________________________________________________________________\n",
      "lstm_1 (LSTM)                (None, 50)                20200     \n",
      "_________________________________________________________________\n",
      "dense (Dense)                (None, 1)                 51        \n",
      "=================================================================\n",
      "Total params: 30,651\n",
      "Trainable params: 30,651\n",
      "Non-trainable params: 0\n",
      "_________________________________________________________________\n"
     ]
    }
   ],
   "source": [
    "model.summary()"
   ]
  },
  {
   "cell_type": "markdown",
   "id": "6ab452f4-0afa-421f-9c10-ec73db5ccd7b",
   "metadata": {},
   "source": [
    "### Fitting the model"
   ]
  },
  {
   "cell_type": "code",
   "execution_count": 26,
   "id": "c4255e47-919a-4953-8fd0-a2069e0871b2",
   "metadata": {},
   "outputs": [
    {
     "name": "stdout",
     "output_type": "stream",
     "text": [
      "Epoch 1/5\n",
      "29/29 [==============================] - 12s 28ms/step - loss: 0.0275\n",
      "Epoch 2/5\n",
      "29/29 [==============================] - 1s 19ms/step - loss: 0.0027\n",
      "Epoch 3/5\n",
      "29/29 [==============================] - 0s 16ms/step - loss: 0.0021\n",
      "Epoch 4/5\n",
      "29/29 [==============================] - 0s 14ms/step - loss: 0.0019\n",
      "Epoch 5/5\n",
      "29/29 [==============================] - 1s 18ms/step - loss: 0.0019\n"
     ]
    },
    {
     "data": {
      "text/plain": [
       "<keras.callbacks.History at 0x1ee20169f70>"
      ]
     },
     "execution_count": 26,
     "metadata": {},
     "output_type": "execute_result"
    }
   ],
   "source": [
    "model.fit(x_train,y_train,epochs=5)"
   ]
  },
  {
   "cell_type": "code",
   "execution_count": 27,
   "id": "98225a9a-ea8f-4968-891b-e20d087ad27e",
   "metadata": {},
   "outputs": [],
   "source": [
    "inputs_data = data[len(data)-len(valid_data)-60:].values"
   ]
  },
  {
   "cell_type": "code",
   "execution_count": 28,
   "id": "4e40e4ac-87c8-4a2d-9f3f-2305e685cc32",
   "metadata": {},
   "outputs": [
    {
     "name": "stderr",
     "output_type": "stream",
     "text": [
      "C:\\Users\\veda keerthi\\anaconda3\\lib\\site-packages\\sklearn\\base.py:450: UserWarning: X does not have valid feature names, but MinMaxScaler was fitted with feature names\n",
      "  warnings.warn(\n"
     ]
    }
   ],
   "source": [
    "inputs_data=inputs_data.reshape(-1,1)\n",
    "inputs_data=minmax.transform(inputs_data)\n",
    "\n",
    "x_test=[]\n",
    "for i in range(60,valid_data.shape[0]):\n",
    "    x_test.append(scaled_data[i-60:i,0])\n",
    "x_test=np.array(x_test)"
   ]
  },
  {
   "cell_type": "markdown",
   "id": "81300d3e-8ef8-4026-991f-5358e43ee726",
   "metadata": {},
   "source": [
    "### Forecasting the model"
   ]
  },
  {
   "cell_type": "code",
   "execution_count": 29,
   "id": "db7a1e5f-5df1-45c3-b0e1-87c8712996a7",
   "metadata": {},
   "outputs": [],
   "source": [
    "x_test=np.reshape(x_test,(x_test.shape[0],x_test.shape[1],1))\n",
    "\n",
    "closing_price=model.predict(x_test)\n",
    "closing_price=minmax.inverse_transform(closing_price)"
   ]
  },
  {
   "cell_type": "markdown",
   "id": "6d1c36fd-e727-457c-8e60-e3fe9b0933a8",
   "metadata": {},
   "source": [
    "### Plotting the Actual VS Forecasted values"
   ]
  },
  {
   "cell_type": "code",
   "execution_count": 37,
   "id": "e0a67287-6efa-42a2-969f-d31a45426c2c",
   "metadata": {},
   "outputs": [
    {
     "data": {
      "image/png": "[encoded data removed]",
      "text/plain": [
       "<Figure size 432x288 with 1 Axes>"
      ]
     },
     "metadata": {
      "needs_background": "light"
     },
     "output_type": "display_data"
    }
   ],
   "source": [
    "plt.plot(data[\"Close\"],label='Actual')\n",
    "plt.plot(closing_price,label='Predicted')\n",
    "plt.title('Actual Vs Predicted')\n",
    "plt.legend()\n",
    "plt.show()"
   ]
  }
 ],
 "metadata": {
  "kernelspec": {
   "display_name": "Python 3 (ipykernel)",
   "language": "python",
   "name": "python3"
  },
  "language_info": {
   "codemirror_mode": {
    "name": "ipython",
    "version": 3
   },
   "file_extension": ".py",
   "mimetype": "text/x-python",
   "name": "python",
   "nbconvert_exporter": "python",
   "pygments_lexer": "ipython3",
   "version": "3.8.8"
  }
 },
 "nbformat": 4,
 "nbformat_minor": 5
}
